{
 "cells": [
  {
   "cell_type": "code",
   "execution_count": 38,
   "id": "94f8f319",
   "metadata": {},
   "outputs": [],
   "source": [
    "import pandas as pd \n",
    "from sklearn.tree import DecisionTreeClassifier\n",
    "from sklearn.model_selection import train_test_split\n",
    "from sklearn import metrics"
   ]
  },
  {
   "cell_type": "code",
   "execution_count": 40,
   "id": "9c7f9abf",
   "metadata": {},
   "outputs": [
    {
     "data": {
      "text/html": [
       "<div>\n",
       "<style scoped>\n",
       "    .dataframe tbody tr th:only-of-type {\n",
       "        vertical-align: middle;\n",
       "    }\n",
       "\n",
       "    .dataframe tbody tr th {\n",
       "        vertical-align: top;\n",
       "    }\n",
       "\n",
       "    .dataframe thead th {\n",
       "        text-align: right;\n",
       "    }\n",
       "</style>\n",
       "<table border=\"1\" class=\"dataframe\">\n",
       "  <thead>\n",
       "    <tr style=\"text-align: right;\">\n",
       "      <th></th>\n",
       "      <th>filename</th>\n",
       "      <th>chroma_frequency</th>\n",
       "      <th>sp_centroid</th>\n",
       "      <th>spectral_bandwidth</th>\n",
       "      <th>rolloff</th>\n",
       "      <th>zero_crossing_rate</th>\n",
       "      <th>mfcc</th>\n",
       "      <th>label</th>\n",
       "    </tr>\n",
       "  </thead>\n",
       "  <tbody>\n",
       "    <tr>\n",
       "      <th>0</th>\n",
       "      <td>boombap1.wav</td>\n",
       "      <td>0.453958</td>\n",
       "      <td>1958.596101</td>\n",
       "      <td>2242.096760</td>\n",
       "      <td>4128.825034</td>\n",
       "      <td>0.082547</td>\n",
       "      <td>7.353139</td>\n",
       "      <td>boombap</td>\n",
       "    </tr>\n",
       "    <tr>\n",
       "      <th>1</th>\n",
       "      <td>boombap10.wav</td>\n",
       "      <td>0.464496</td>\n",
       "      <td>2986.492353</td>\n",
       "      <td>2837.508148</td>\n",
       "      <td>6292.511950</td>\n",
       "      <td>0.147826</td>\n",
       "      <td>2.782494</td>\n",
       "      <td>boombap</td>\n",
       "    </tr>\n",
       "    <tr>\n",
       "      <th>2</th>\n",
       "      <td>boombap100.wav</td>\n",
       "      <td>0.459968</td>\n",
       "      <td>2377.117125</td>\n",
       "      <td>2708.232787</td>\n",
       "      <td>5411.317279</td>\n",
       "      <td>0.064741</td>\n",
       "      <td>8.356519</td>\n",
       "      <td>boombap</td>\n",
       "    </tr>\n",
       "    <tr>\n",
       "      <th>3</th>\n",
       "      <td>boombap1000.wav</td>\n",
       "      <td>0.493061</td>\n",
       "      <td>2218.901984</td>\n",
       "      <td>2303.409329</td>\n",
       "      <td>4625.305365</td>\n",
       "      <td>0.101993</td>\n",
       "      <td>4.666915</td>\n",
       "      <td>boombap</td>\n",
       "    </tr>\n",
       "    <tr>\n",
       "      <th>4</th>\n",
       "      <td>boombap1001.wav</td>\n",
       "      <td>0.502233</td>\n",
       "      <td>2215.360115</td>\n",
       "      <td>2261.072044</td>\n",
       "      <td>4563.039075</td>\n",
       "      <td>0.105489</td>\n",
       "      <td>4.909902</td>\n",
       "      <td>boombap</td>\n",
       "    </tr>\n",
       "  </tbody>\n",
       "</table>\n",
       "</div>"
      ],
      "text/plain": [
       "          filename  chroma_frequency  sp_centroid  spectral_bandwidth  \\\n",
       "0     boombap1.wav          0.453958  1958.596101         2242.096760   \n",
       "1    boombap10.wav          0.464496  2986.492353         2837.508148   \n",
       "2   boombap100.wav          0.459968  2377.117125         2708.232787   \n",
       "3  boombap1000.wav          0.493061  2218.901984         2303.409329   \n",
       "4  boombap1001.wav          0.502233  2215.360115         2261.072044   \n",
       "\n",
       "       rolloff  zero_crossing_rate      mfcc    label  \n",
       "0  4128.825034            0.082547  7.353139  boombap  \n",
       "1  6292.511950            0.147826  2.782494  boombap  \n",
       "2  5411.317279            0.064741  8.356519  boombap  \n",
       "3  4625.305365            0.101993  4.666915  boombap  \n",
       "4  4563.039075            0.105489  4.909902  boombap  "
      ]
     },
     "execution_count": 40,
     "metadata": {},
     "output_type": "execute_result"
    }
   ],
   "source": [
    "data=pd.read_csv(\"dataAudio.csv\")\n",
    "col_name=['filename','chroma_frequency','sp_centroid','spectral_bandwidth','rolloff','zero_crossing_rate','mfcc','label']\n",
    "data.columns=col_name\n",
    "data.head()"
   ]
  },
  {
   "cell_type": "code",
   "execution_count": 49,
   "id": "4cb6567e",
   "metadata": {},
   "outputs": [
    {
     "name": "stdout",
     "output_type": "stream",
     "text": [
      "       chroma_frequency  sp_centroid  spectral_bandwidth      rolloff  \\\n",
      "0              0.453958  1958.596101         2242.096760  4128.825034   \n",
      "1              0.464496  2986.492353         2837.508148  6292.511950   \n",
      "2              0.459968  2377.117125         2708.232787  5411.317279   \n",
      "3              0.493061  2218.901984         2303.409329  4625.305365   \n",
      "4              0.502233  2215.360115         2261.072044  4563.039075   \n",
      "...                 ...          ...                 ...          ...   \n",
      "12193          0.479732  2341.972464         2381.461711  4880.220490   \n",
      "12194          0.586347  2309.798019         2479.139534  4966.919966   \n",
      "12195          0.572542  2055.582032         2287.343790  4201.607927   \n",
      "12196          0.531964  2348.962830         2425.149789  4921.086910   \n",
      "12197          0.485520  2315.664751         2374.392025  4841.720723   \n",
      "\n",
      "       zero_crossing_rate      mfcc  \n",
      "0                0.082547  7.353139  \n",
      "1                0.147826  2.782494  \n",
      "2                0.064741  8.356519  \n",
      "3                0.101993  4.666915  \n",
      "4                0.105489  4.909902  \n",
      "...                   ...       ...  \n",
      "12193            0.098807  6.350958  \n",
      "12194            0.068026  6.352512  \n",
      "12195            0.059735  6.019572  \n",
      "12196            0.083488  6.259667  \n",
      "12197            0.096273  6.413976  \n",
      "\n",
      "[12198 rows x 6 columns]\n",
      "0        boombap\n",
      "1        boombap\n",
      "2        boombap\n",
      "3        boombap\n",
      "4        boombap\n",
      "          ...   \n",
      "12193       trap\n",
      "12194       trap\n",
      "12195       trap\n",
      "12196       trap\n",
      "12197       trap\n",
      "Name: label, Length: 12198, dtype: object\n"
     ]
    }
   ],
   "source": [
    "feature_cols=['chroma_frequency','sp_centroid','spectral_bandwidth','rolloff','zero_crossing_rate','mfcc']\n",
    "X=data[feature_cols]\n",
    "y=data.label\n",
    "print(X)\n",
    "print(y)"
   ]
  },
  {
   "cell_type": "code",
   "execution_count": 42,
   "id": "c04670e1",
   "metadata": {},
   "outputs": [
    {
     "name": "stdout",
     "output_type": "stream",
     "text": [
      "       chroma_frequency  sp_centroid  spectral_bandwidth      rolloff  \\\n",
      "1312           0.322335  1620.059979         1915.518482  3410.212712   \n",
      "10705          0.692906  1654.190021         2002.081713  3468.612359   \n",
      "1828           0.322216  2434.377526         2383.281665  4882.420477   \n",
      "9525           0.388337  2099.828878         2322.393876  4482.072898   \n",
      "8353           0.443690  1194.286066         1960.570113  2295.369454   \n",
      "...                 ...          ...                 ...          ...   \n",
      "4685           0.395280  2227.037868         2159.287373  4525.839300   \n",
      "10338          0.565396  1924.852751         2165.873652  4110.908475   \n",
      "2741           0.488976  2649.414158         2280.541412  4882.937140   \n",
      "8733           0.262737  1665.998617         1762.151709  3220.497193   \n",
      "1197           0.445186  1248.643185         1816.323986  2621.684147   \n",
      "\n",
      "       zero_crossing_rate      mfcc  \n",
      "1312             0.064161  3.430841  \n",
      "10705            0.041265  6.978148  \n",
      "1828             0.131661  3.330834  \n",
      "9525             0.089426 -0.837582  \n",
      "8353             0.031017  2.622187  \n",
      "...                   ...       ...  \n",
      "4685             0.119466  0.942596  \n",
      "10338            0.055437  4.667738  \n",
      "2741             0.130355 -0.822263  \n",
      "8733             0.084253 -4.112651  \n",
      "1197             0.040747 -1.159814  \n",
      "\n",
      "[3660 rows x 6 columns]\n"
     ]
    }
   ],
   "source": [
    "X_train, X_test, y_train,y_test= train_test_split(X,y, test_size=0.3, random_state=1)\n",
    "print(X_test)"
   ]
  },
  {
   "cell_type": "code",
   "execution_count": 43,
   "id": "a07cd8bb",
   "metadata": {},
   "outputs": [],
   "source": [
    "dt=DecisionTreeClassifier()\n",
    "dt=dt.fit(X_train,y_train)"
   ]
  },
  {
   "cell_type": "code",
   "execution_count": 44,
   "id": "93d55723",
   "metadata": {},
   "outputs": [
    {
     "name": "stdout",
     "output_type": "stream",
     "text": [
      "[[337 121  89 118 112]\n",
      " [114 361  57  97  91]\n",
      " [ 85  61 431  85  50]\n",
      " [ 98  98  90 249  99]\n",
      " [112  94  67 114 430]]\n"
     ]
    }
   ],
   "source": [
    "y_pred=dt.predict(X_test)\n",
    "from sklearn.metrics import confusion_matrix\n",
    "confmat = confusion_matrix(y_test,y_pred)\n",
    "print(confmat)"
   ]
  },
  {
   "cell_type": "code",
   "execution_count": 45,
   "id": "9cb707ce",
   "metadata": {},
   "outputs": [
    {
     "name": "stdout",
     "output_type": "stream",
     "text": [
      "0.49398907103825135\n"
     ]
    }
   ],
   "source": [
    "# Accuracy (Doğruluk) = alt küme doğruluğunu hesapla\n",
    "\n",
    "from sklearn.metrics import accuracy_score\n",
    "acc = accuracy_score(y_test,y_pred)\n",
    "print(acc)"
   ]
  },
  {
   "cell_type": "code",
   "execution_count": 46,
   "id": "fee5df7d",
   "metadata": {},
   "outputs": [
    {
     "name": "stdout",
     "output_type": "stream",
     "text": [
      "0.4911060568086437\n"
     ]
    }
   ],
   "source": [
    "# Precision (Hassasiyet)\n",
    "\n",
    "from sklearn.metrics import precision_score\n",
    "\n",
    "pre = precision_score(y_test, y_pred,average='macro')\n",
    "print(pre)"
   ]
  },
  {
   "cell_type": "code",
   "execution_count": 47,
   "id": "894db4e3",
   "metadata": {},
   "outputs": [
    {
     "name": "stdout",
     "output_type": "stream",
     "text": [
      "0.49190113404579205\n"
     ]
    }
   ],
   "source": [
    "# Recall (Geri Cagirma)\n",
    "\n",
    "from sklearn.metrics import recall_score\n",
    "\n",
    "rec = recall_score(y_test, y_pred, average='macro')\n",
    "print(rec)"
   ]
  },
  {
   "cell_type": "code",
   "execution_count": 48,
   "id": "91f52d98",
   "metadata": {},
   "outputs": [
    {
     "name": "stdout",
     "output_type": "stream",
     "text": [
      "0.4913387842752913\n"
     ]
    }
   ],
   "source": [
    "# F-measure = Precision ve Recall'un harmonik bir ortalaması olarak yorumlanabilir.\n",
    "\n",
    "from sklearn.metrics import f1_score\n",
    "\n",
    "fm = f1_score(y_test, y_pred, average='macro')\n",
    "print(fm)"
   ]
  }
 ],
 "metadata": {
  "kernelspec": {
   "display_name": "Python 3 (ipykernel)",
   "language": "python",
   "name": "python3"
  },
  "language_info": {
   "codemirror_mode": {
    "name": "ipython",
    "version": 3
   },
   "file_extension": ".py",
   "mimetype": "text/x-python",
   "name": "python",
   "nbconvert_exporter": "python",
   "pygments_lexer": "ipython3",
   "version": "3.9.7"
  }
 },
 "nbformat": 4,
 "nbformat_minor": 5
}
