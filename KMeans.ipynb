{
 "cells": [
  {
   "cell_type": "code",
   "execution_count": 1,
   "id": "a1f3a3d7",
   "metadata": {},
   "outputs": [
    {
     "name": "stdout",
     "output_type": "stream",
     "text": [
      "              filename  chroma_frequency  sp_centroid  spectral_bandwidth  \\\n",
      "0         boombap1.wav          0.453958  1958.596101         2242.096760   \n",
      "1        boombap10.wav          0.464496  2986.492353         2837.508148   \n",
      "2       boombap100.wav          0.459968  2377.117125         2708.232787   \n",
      "3      boombap1000.wav          0.493061  2218.901984         2303.409329   \n",
      "4      boombap1001.wav          0.502233  2215.360115         2261.072044   \n",
      "...                ...               ...          ...                 ...   \n",
      "12193      trap995.wav          0.479732  2341.972464         2381.461711   \n",
      "12194      trap996.wav          0.586347  2309.798019         2479.139534   \n",
      "12195      trap997.wav          0.572542  2055.582032         2287.343790   \n",
      "12196      trap998.wav          0.531964  2348.962830         2425.149789   \n",
      "12197      trap999.wav          0.485520  2315.664751         2374.392025   \n",
      "\n",
      "           rolloff  zero_crossing_rate      mfcc    label  \n",
      "0      4128.825034            0.082547  7.353139  boombap  \n",
      "1      6292.511950            0.147826  2.782494  boombap  \n",
      "2      5411.317279            0.064741  8.356519  boombap  \n",
      "3      4625.305365            0.101993  4.666915  boombap  \n",
      "4      4563.039075            0.105489  4.909902  boombap  \n",
      "...            ...                 ...       ...      ...  \n",
      "12193  4880.220490            0.098807  6.350958     trap  \n",
      "12194  4966.919966            0.068026  6.352512     trap  \n",
      "12195  4201.607927            0.059735  6.019572     trap  \n",
      "12196  4921.086910            0.083488  6.259667     trap  \n",
      "12197  4841.720723            0.096273  6.413976     trap  \n",
      "\n",
      "[12198 rows x 8 columns]\n"
     ]
    }
   ],
   "source": [
    "import pandas as pd\n",
    "data = pd.read_csv(\"dataAudio.csv\")\n",
    "print(data)"
   ]
  },
  {
   "cell_type": "code",
   "execution_count": 2,
   "id": "ae402f5c",
   "metadata": {},
   "outputs": [
    {
     "name": "stdout",
     "output_type": "stream",
     "text": [
      "[[4.53958213e-01 1.95859610e+03 2.24209676e+03 4.12882503e+03\n",
      "  8.25474978e-02 7.35313892e+00]\n",
      " [4.64495540e-01 2.98649235e+03 2.83750815e+03 6.29251195e+03\n",
      "  1.47826015e-01 2.78249383e+00]\n",
      " [4.59968120e-01 2.37711713e+03 2.70823279e+03 5.41131728e+03\n",
      "  6.47411051e-02 8.35651875e+00]\n",
      " ...\n",
      " [5.72542429e-01 2.05558203e+03 2.28734379e+03 4.20160793e+03\n",
      "  5.97350885e-02 6.01957178e+00]\n",
      " [5.31963766e-01 2.34896283e+03 2.42514979e+03 4.92108691e+03\n",
      "  8.34877794e-02 6.25966692e+00]\n",
      " [4.85520065e-01 2.31566475e+03 2.37439202e+03 4.84172072e+03\n",
      "  9.62730384e-02 6.41397619e+00]]\n"
     ]
    }
   ],
   "source": [
    "features = data.iloc[:,1:-1].values\n",
    "print(features)"
   ]
  },
  {
   "cell_type": "code",
   "execution_count": 3,
   "id": "4aa7f3e2",
   "metadata": {},
   "outputs": [],
   "source": [
    "# n_cluster = Oluşturulacak merkez sayısı kadar küme sayısı\n",
    "# kmeans++ = Yakınsamayı hızlandırmak için akıllı bir şekilde k-ortalama kümeleme için ilk küme merkezlerini seçer\n",
    "# random_state = Merkezi başlatma için rasgele sayı oluşturma."
   ]
  },
  {
   "cell_type": "code",
   "execution_count": 4,
   "id": "e94b712f",
   "metadata": {},
   "outputs": [
    {
     "name": "stderr",
     "output_type": "stream",
     "text": [
      "<frozen importlib._bootstrap>:228: RuntimeWarning: scipy._lib.messagestream.MessageStream size changed, may indicate binary incompatibility. Expected 56 from C header, got 64 from PyObject\n"
     ]
    },
    {
     "data": {
      "text/plain": [
       "KMeans(n_clusters=5, random_state=0)"
      ]
     },
     "execution_count": 4,
     "metadata": {},
     "output_type": "execute_result"
    }
   ],
   "source": [
    "from sklearn.cluster import KMeans\n",
    "km = KMeans(n_clusters=5,init='k-means++',random_state=0)\n",
    "km.fit(features) #kümeleme islemi"
   ]
  },
  {
   "cell_type": "code",
   "execution_count": 5,
   "id": "d7f4497d",
   "metadata": {},
   "outputs": [
    {
     "name": "stdout",
     "output_type": "stream",
     "text": [
      "[1 4 2 ... 1 2 2]\n"
     ]
    }
   ],
   "source": [
    "predict = km.predict(features) #tahmin islemi\n",
    "print(predict)"
   ]
  },
  {
   "cell_type": "code",
   "execution_count": 6,
   "id": "0eb514f1",
   "metadata": {},
   "outputs": [
    {
     "name": "stdout",
     "output_type": "stream",
     "text": [
      "[[ 3.53751538e-01  8.56725236e+02  1.27084677e+03  1.54433378e+03\n",
      "   3.66462133e-02 -2.34223253e+00]\n",
      " [ 4.29477401e-01  1.86946957e+03  2.16329170e+03  3.96366004e+03\n",
      "   7.04161177e-02  1.04970660e+00]\n",
      " [ 4.44286377e-01  2.33254511e+03  2.45882362e+03  4.96674146e+03\n",
      "   9.31194885e-02  1.62038967e+00]\n",
      " [ 4.04493520e-01  1.41741176e+03  1.80778759e+03  2.89823865e+03\n",
      "   5.28119190e-02 -7.05807651e-01]\n",
      " [ 4.62172725e-01  2.95381153e+03  2.75232702e+03  6.19754605e+03\n",
      "   1.32196490e-01  2.53329927e+00]]\n"
     ]
    }
   ],
   "source": [
    "print(km.cluster_centers_) #kümelemek için ortalama aldık"
   ]
  },
  {
   "cell_type": "code",
   "execution_count": 7,
   "id": "f2ceb837",
   "metadata": {},
   "outputs": [
    {
     "data": {
      "image/png": "[encoded data removed]",
      "text/plain": [
       "<Figure size 432x288 with 1 Axes>"
      ]
     },
     "metadata": {
      "needs_background": "light"
     },
     "output_type": "display_data"
    }
   ],
   "source": [
    "import matplotlib.pyplot as plt #kümeleri renkle ayırıp grafikte gösterdik\n",
    "plt.scatter(features[predict==0,0], features[predict==0,1], s=50, color='red')\n",
    "plt.scatter(features[predict==1,0], features[predict==1,1], s=50, color='blue')\n",
    "plt.scatter(features[predict==2,0], features[predict==2,1], s=50, color='green')\n",
    "plt.scatter(features[predict==3,0], features[predict==3,1], s=50, color='orange')\n",
    "plt.scatter(features[predict==4,0], features[predict==4,1], s=50, color='pink')\n",
    "plt.title('Irıs K-means')\n",
    "plt.show()"
   ]
  }
 ],
 "metadata": {
  "kernelspec": {
   "display_name": "Python 3 (ipykernel)",
   "language": "python",
   "name": "python3"
  },
  "language_info": {
   "codemirror_mode": {
    "name": "ipython",
    "version": 3
   },
   "file_extension": ".py",
   "mimetype": "text/x-python",
   "name": "python",
   "nbconvert_exporter": "python",
   "pygments_lexer": "ipython3",
   "version": "3.9.7"
  }
 },
 "nbformat": 4,
 "nbformat_minor": 5
}
